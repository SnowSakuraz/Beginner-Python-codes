{
 "cells": [
  {
   "cell_type": "code",
   "execution_count": 1,
   "metadata": {},
   "outputs": [
    {
     "name": "stdout",
     "output_type": "stream",
     "text": [
      "    Picnic Items    \n",
      "apple..........   20\n",
      "orange.........   15\n",
      "ice tea........    4\n",
      "los angeles....    5\n"
     ]
    }
   ],
   "source": [
    "adict = {\"apple\":20, \"orange\":15, \"ice tea\":4, \"los angeles\":5}\n",
    "\n",
    "def justifier(left,right):\n",
    "    print(\"Picnic Items\".center(20))\n",
    "    for k,v in adict.items():\n",
    "        print( k.ljust(left,\".\") + str(v).rjust(right))\n",
    "        \n",
    "justifier(15,5) #注意是左还是右\n"
   ]
  },
  {
   "cell_type": "code",
   "execution_count": null,
   "metadata": {},
   "outputs": [],
   "source": []
  }
 ],
 "metadata": {
  "kernelspec": {
   "display_name": "Python 3",
   "language": "python",
   "name": "python3"
  },
  "language_info": {
   "codemirror_mode": {
    "name": "ipython",
    "version": 3
   },
   "file_extension": ".py",
   "mimetype": "text/x-python",
   "name": "python",
   "nbconvert_exporter": "python",
   "pygments_lexer": "ipython3",
   "version": "3.8.3"
  }
 },
 "nbformat": 4,
 "nbformat_minor": 4
}

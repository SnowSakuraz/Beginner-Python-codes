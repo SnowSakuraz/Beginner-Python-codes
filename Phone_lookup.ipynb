{
 "cells": [
  {
   "cell_type": "code",
   "execution_count": 254,
   "metadata": {},
   "outputs": [],
   "source": [
    "#1. We have a input \n",
    "#2. We set up the regular expression mode\n",
    "#3. We match the mode to the input text (and make phone's format look uniform), and then attach the result to a list\n",
    "#4. Print out the list \n",
    "\n",
    "import pyperclip, re\n",
    "text = str(pyperclip.paste())\n",
    "\n",
    "#Example: xiaohangyu123@gmail.com ; 217-904-8171 or 217 904 8171 or 2179048171 \n",
    "emailmode = re.compile(r'''[a-zA-Z0-9]+@[a-zA-Z0-9]+\\.[a-zA-Z]{3}''',re.VERBOSE)\n",
    "phonemode = re.compile('''(\n",
    " (\\d{3}|\\(\\d{3}\\))  \n",
    " (\\s|-|\\.)?    \n",
    " (\\d{3})\n",
    " (\\s|-|\\.)?\n",
    " (\\d{4}) \n",
    ")''',re.VERBOSE)\n",
    "# first line is area code, three number, could be in parenthesis \n",
    "# second line and fourth line is seperator, optional, could be \"-\" or \" \" or \".\" or none at all\n",
    "\n",
    "longlist = []\n",
    "for item in phonemode.findall(text):\n",
    "    uni_phone = \"-\".join([item[1],item[3],item[5]]) \n",
    "    #the double list sign is actually converting tuples to lists in the large list\n",
    "    #[('1433902673', '143', '', '390', '', '2673'), ('217-392-3213', '217', '-', '392', '-', '3213')] \n",
    "    longlist.append(uni_phone)\n",
    "for group in emailmode.findall(text):\n",
    "    longlist.append(group)\n",
    "\n",
    "pyperclip.copy( \"\\n\".join(longlist) )"
   ]
  }
 ],
 "metadata": {
  "kernelspec": {
   "display_name": "Python 3",
   "language": "python",
   "name": "python3"
  },
  "language_info": {
   "codemirror_mode": {
    "name": "ipython",
    "version": 3
   },
   "file_extension": ".py",
   "mimetype": "text/x-python",
   "name": "python",
   "nbconvert_exporter": "python",
   "pygments_lexer": "ipython3",
   "version": "3.8.3"
  }
 },
 "nbformat": 4,
 "nbformat_minor": 4
}

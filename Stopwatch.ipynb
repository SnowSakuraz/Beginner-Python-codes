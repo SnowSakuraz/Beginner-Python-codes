{
 "cells": [
  {
   "cell_type": "code",
   "execution_count": 61,
   "metadata": {},
   "outputs": [
    {
     "name": "stdin",
     "output_type": "stream",
     "text": [
      "Press enter to start stopwatch, press again for new laps \n",
      " \n"
     ]
    },
    {
     "name": "stdout",
     "output_type": "stream",
     "text": [
      "1 laptime: 2.513239860534668 total time: 2.51324200630188\n"
     ]
    },
    {
     "name": "stdin",
     "output_type": "stream",
     "text": [
      " \n"
     ]
    },
    {
     "name": "stdout",
     "output_type": "stream",
     "text": [
      "2 laptime: 3.0385210514068604 total time: 5.551970958709717\n"
     ]
    },
    {
     "name": "stdin",
     "output_type": "stream",
     "text": [
      " \n"
     ]
    },
    {
     "name": "stdout",
     "output_type": "stream",
     "text": [
      "3 laptime: 3.6156561374664307 total time: 9.167826890945435\n"
     ]
    },
    {
     "name": "stdin",
     "output_type": "stream",
     "text": [
      " \n"
     ]
    },
    {
     "name": "stdout",
     "output_type": "stream",
     "text": [
      "4 laptime: 3.1161231994628906 total time: 12.284167051315308\n"
     ]
    },
    {
     "name": "stdin",
     "output_type": "stream",
     "text": [
      " \n"
     ]
    },
    {
     "name": "stdout",
     "output_type": "stream",
     "text": [
      "5 laptime: 0.5926439762115479 total time: 12.877020120620728\n"
     ]
    },
    {
     "name": "stdin",
     "output_type": "stream",
     "text": [
      " \n"
     ]
    },
    {
     "name": "stdout",
     "output_type": "stream",
     "text": [
      "6 laptime: 0.4811892509460449 total time: 13.358479022979736\n"
     ]
    },
    {
     "name": "stdin",
     "output_type": "stream",
     "text": [
      " \n"
     ]
    },
    {
     "name": "stdout",
     "output_type": "stream",
     "text": [
      "7 laptime: 0.14209723472595215 total time: 13.501317977905273\n"
     ]
    },
    {
     "name": "stdin",
     "output_type": "stream",
     "text": [
      " \n"
     ]
    },
    {
     "name": "stdout",
     "output_type": "stream",
     "text": [
      "8 laptime: 0.29185009002685547 total time: 13.795212030410767\n"
     ]
    },
    {
     "name": "stdin",
     "output_type": "stream",
     "text": [
      " \n"
     ]
    },
    {
     "name": "stdout",
     "output_type": "stream",
     "text": [
      "9 laptime: 0.12158370018005371 total time: 13.917047023773193\n"
     ]
    },
    {
     "name": "stdin",
     "output_type": "stream",
     "text": [
      " \n"
     ]
    },
    {
     "name": "stdout",
     "output_type": "stream",
     "text": [
      "10 laptime: 0.29330992698669434 total time: 14.210757970809937\n"
     ]
    },
    {
     "name": "stdin",
     "output_type": "stream",
     "text": [
      " \n"
     ]
    },
    {
     "name": "stdout",
     "output_type": "stream",
     "text": [
      "11 laptime: 0.125169038772583 total time: 14.336402893066406\n",
      "Done\n"
     ]
    }
   ],
   "source": [
    "import time\n",
    "input(\"Press enter to start stopwatch, press again for new laps\")\n",
    "start = time.time()\n",
    "lapstart = start  # 引入laptime,第一圈数值同start\n",
    "lap_number = 1    # to show lap number \n",
    "\n",
    "try:             # to define exit mechanism.\n",
    "    while True:  \n",
    "        input()\n",
    "        lap_time = time.time() - lapstart \n",
    "        total_time = time.time() - start\n",
    "        print(lap_number, \"laptime:\", lap_time, \"total time:\", total_time)\n",
    "        lap_number += 1\n",
    "        lapstart = time.time()    # to adjust lapstart to current time \n",
    "except KeyboardInterrupt:\n",
    "    print(\"Done\")"
   ]
  }
 ],
 "metadata": {
  "kernelspec": {
   "display_name": "Python 3",
   "language": "python",
   "name": "python3"
  },
  "language_info": {
   "codemirror_mode": {
    "name": "ipython",
    "version": 3
   },
   "file_extension": ".py",
   "mimetype": "text/x-python",
   "name": "python",
   "nbconvert_exporter": "python",
   "pygments_lexer": "ipython3",
   "version": "3.8.3"
  }
 },
 "nbformat": 4,
 "nbformat_minor": 4
}

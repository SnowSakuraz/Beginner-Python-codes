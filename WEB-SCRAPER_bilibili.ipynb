{
 "cells": [
  {
   "cell_type": "code",
   "execution_count": null,
   "metadata": {},
   "outputs": [],
   "source": [
    "import requests \n",
    "import re\n",
    "import pandas as pd, matplotlib.pyplot as plt\n",
    "from bs4 import BeautifulSoup as bs\n",
    "from datetime import datetime\n",
    "\n",
    "def getdanmu(bili_url):\n",
    "# 第一步：从视频页面源代码抓取cid\n",
    "    headers = {\"User-Agent\": \"Mozilla/5.0 (Macintosh; Intel Mac OS X 10_14_4) AppleWebKit/537.36 (KHTML, like Gecko) Chrome/86.0.4240.183 Safari/537.36\"}\n",
    "    mainpage = requests.get(bili_url, headers = headers)   \n",
    "    ## 用正则表达式抓取cid\n",
    "    cid = re.search(r\"\\\"cid\\\":(\\d{2,20})\", mainpage.text).group(1)\n",
    "    danmu_url = \"https://comment.bilibili.com/{}.xml\".format(cid)\n",
    "    \n",
    "# 第二步: 爬取弹幕\n",
    "    headers_two = {\"User-Agent\": \"Mozilla/5.0 (Macintosh; Intel Mac OS X 10_14_4) AppleWebKit/537.36 (KHTML, like Gecko) Chrome/86.0.4240.183 Safari/537.36\"}\n",
    "    danmupage = requests.get(danmu_url, headers = headers_two).content.decode('utf-8')   \n",
    "    \n",
    "    ##用BS来解析弹幕\n",
    "    danmupage = bs(danmupage)                                  # turn the page to beautifulsoup object \n",
    "    danmulist = [] \n",
    "    for i in danmupage.find_all(\"d\"):                          # extract all lines that looks like ----   <d p=\"142.54600,1,25,16777215,1623167764,0,3f873bcb,50345064242085891\">逆天种法</d>\n",
    "        danmulist.append(i.get(\"p\").split(\",\") + [i.text])     # split the tags in p, concat with text, and append to list\n",
    "    global frame\n",
    "    frame = pd.DataFrame(danmulist, columns = ['seconds', 'danmu_mode', 'c', 'danmucolor_decimal', 'timestamp', 'f', 'userid(crc32)', 'h', 'danmu'])  \n",
    "    frame = frame[[\"seconds\",\"danmu_mode\",\"danmucolor_decimal\",\"timestamp\",'userid(crc32)',\"danmu\"]]        \n",
    "    \n",
    "    ##整理数据\n",
    "    #转换unix时间戳\n",
    "    frame['date'] = frame['timestamp'].apply(lambda x: str(datetime.fromtimestamp(int(x)).date()))     \n",
    "    #转换弹幕模式\n",
    "    frame[\"danmu_mode\"] = pd.to_numeric(frame[\"danmu_mode\"])\n",
    "    frame[\"mode\"] = frame[\"danmu_mode\"].apply(lambda x: \"rolling\" if x <=3 else (\"bottom\" if x == 4 else (\"top\" if x ==  5 else \"backwards\")))    \n",
    "    #转换10进制color code为RGB\n",
    "    colorlist = []\n",
    "    def decimal_to_rgb(color):\n",
    "        blue =  int(color) & 255\n",
    "        green = (int(color) >> 8) & 255\n",
    "        red =   (int(color) >> 16) & 255\n",
    "        colorlist.append([blue, green, red])\n",
    "    for i in frame[\"danmucolor_decimal\"]:\n",
    "        decimal_to_rgb(i)\n",
    "    frame[\"RGB\"] = colorlist\n",
    "    #Round seconds\n",
    "    frame[\"seconds\"] = frame[\"seconds\"].astype(float).astype(int)\n",
    "    \n",
    "    ##清除数据\n",
    "    global updated\n",
    "    updated = frame.drop(columns = [\"danmu_mode\", \"timestamp\", \"danmucolor_decimal\"])\n",
    "    updated.to_excel(\"Danmu.xlsx\")\n",
    "    \n",
    "#Test\n",
    "url = input(\"请输入b站视频网址然后按回车:\")\n",
    "getdanmu(url)\n",
    "\n",
    "update\n"
   ]
  }
 ],
 "metadata": {
  "kernelspec": {
   "display_name": "Python 3",
   "language": "python",
   "name": "python3"
  },
  "language_info": {
   "codemirror_mode": {
    "name": "ipython",
    "version": 3
   },
   "file_extension": ".py",
   "mimetype": "text/x-python",
   "name": "python",
   "nbconvert_exporter": "python",
   "pygments_lexer": "ipython3",
   "version": "3.8.3"
  }
 },
 "nbformat": 4,
 "nbformat_minor": 4
}

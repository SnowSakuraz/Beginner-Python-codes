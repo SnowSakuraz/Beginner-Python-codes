{
 "cells": [
  {
   "cell_type": "code",
   "execution_count": 59,
   "metadata": {},
   "outputs": [
    {
     "name": "stdout",
     "output_type": "stream",
     "text": [
      "[['876', '27', '673', '293', '687', '819', '751', '441', '202', '420'], ['346', '722', '648', '707', '892', '638', '548', '598', '411', '85'], ['515', '99', '821', '336', '137', '529', '238', '372', '47', '395'], ['345', '319', '364', '697', '538', '337', '959', '256', '943', '213']]\n",
      "[['232', '121', '950', '673', '789', '302', '935', '913', '379', '776'], ['175', '145', '992', '331', '406', '458', '803', '364', '408', '77'], ['635', '661', '26', '929', '305', '754', '872', '322', '26', '305'], ['16', '111', '832', '614', '610', '323', '961', '316', '641', '374']]\n",
      "[['955', '89', '567', '711', '827', '599', '445', '160', '479', '183'], ['853', '949', '755', '49', '313', '76', '615', '302', '419', '839'], ['699', '352', '298', '169', '843', '661', '997', '936', '447', '211'], ['924', '71', '329', '654', '59', '808', '688', '331', '282', '713']]\n"
     ]
    }
   ],
   "source": [
    "# 找到桌面每个csv文件并打开 (for loop and if not )\n",
    "# 写入5行随机数，每行10个 (randint and append list)\n",
    "\n",
    "import csv, os, random\n",
    "os.chdir('/Users/allen/Desktop/Python/small files/csv examples')      # change working directory\n",
    "for name in os.listdir('.'):  # loop through names in desktop\n",
    "    if not name.endswith(\"csv\"):   \n",
    "        continue               # we only want csv files        \n",
    "    file = open(name,'w')\n",
    "    csvfile = csv.writer(file)\n",
    "    for i in range(5):             # write 5 times (rows)\n",
    "        numlist = []\n",
    "        for i in range(10):        # create 10 random numbers\n",
    "            numlist.append(random.randint(1,1000))\n",
    "        csvfile.writerow(numlist)\n",
    "    file.close()"
   ]
  }
 ],
 "metadata": {
  "kernelspec": {
   "display_name": "Python 3",
   "language": "python",
   "name": "python3"
  },
  "language_info": {
   "codemirror_mode": {
    "name": "ipython",
    "version": 3
   },
   "file_extension": ".py",
   "mimetype": "text/x-python",
   "name": "python",
   "nbconvert_exporter": "python",
   "pygments_lexer": "ipython3",
   "version": "3.8.3"
  }
 },
 "nbformat": 4,
 "nbformat_minor": 4
}

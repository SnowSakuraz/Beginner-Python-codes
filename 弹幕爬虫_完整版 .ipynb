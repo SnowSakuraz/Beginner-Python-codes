{
 "cells": [
  {
   "cell_type": "code",
   "execution_count": 14,
   "metadata": {},
   "outputs": [
    {
     "name": "stdout",
     "output_type": "stream",
     "text": [
      "awsl 126\n",
      "完结撒花 34\n",
      "你不对劲 30\n",
      "喵内 29\n",
      "哈哈哈 25\n",
      "失去高光 23\n",
      "哈哈哈哈 23\n",
      "万恶之源 21\n",
      "铁骨铮铮白咲花 17\n",
      "lsp 17\n"
     ]
    }
   ],
   "source": [
    "import requests \n",
    "import re\n",
    "from bs4 import BeautifulSoup\n",
    "\n",
    "# 第一步：从主网址抓取弹幕网址\n",
    "def getdanmu(bili_url):\n",
    "    headers = {\"User-Agent\": \"Mozilla/5.0 (Macintosh; Intel Mac OS X 10_14_4) AppleWebKit/537.36 (KHTML, like Gecko) Chrome/86.0.4240.183 Safari/537.36\"}\n",
    "    mainpage = requests.get(bili_url, headers = headers)   \n",
    "    # use regular expression to get cid for danmu website\n",
    "    cid = re.search(r\"\\\"cid\\\":(\\d{2,20})\", mainpage.text).group(1)\n",
    "    danmu_url = \"https://comment.bilibili.com/{}.xml\".format(cid)\n",
    "    \n",
    "# Step 2: 爬取弹幕\n",
    "# we didn't use xml method. Instead, we are using the html method.\n",
    "    headers_two = {\"User-Agent\": \"Mozilla/5.0 (Macintosh; Intel Mac OS X 10_14_4) AppleWebKit/537.36 (KHTML, like Gecko) Chrome/86.0.4240.183 Safari/537.36\"}\n",
    "    danmupage = requests.get(danmu_url, headers = headers_two).content.decode('utf-8')   \n",
    "    \n",
    "    #use beautifulsoup to get danmu list\n",
    "    danmupage = BeautifulSoup(danmupage)\n",
    "    danmu = danmupage('d')\n",
    "    \n",
    "    #append danmu content to a list\n",
    "    global danmu_content\n",
    "    danmu_content = list() \n",
    "    for i in danmu:\n",
    "        danmu_content.append(i.contents[0])\n",
    "        \n",
    "# Step 3: 排序\n",
    "    rank_dict = dict()\n",
    "    rank_list = list()\n",
    "    for word in danmu_content:\n",
    "        rank_dict[word] = rank_dict.get(word,0) + 1\n",
    "    for key, value in rank_dict.items():\n",
    "        couple = (value, key)\n",
    "        rank_list.append(couple)\n",
    "    sortlist = sorted(rank_list, reverse = True)\n",
    "    for value, key in sortlist[:10]:\n",
    "        print(key,value)\n",
    "    \n",
    "getdanmu('https://www.bilibili.com/bangumi/play/ep259664')"
   ]
  }
 ],
 "metadata": {
  "kernelspec": {
   "display_name": "Python 3",
   "language": "python",
   "name": "python3"
  },
  "language_info": {
   "codemirror_mode": {
    "name": "ipython",
    "version": 3
   },
   "file_extension": ".py",
   "mimetype": "text/x-python",
   "name": "python",
   "nbconvert_exporter": "python",
   "pygments_lexer": "ipython3",
   "version": "3.8.3"
  }
 },
 "nbformat": 4,
 "nbformat_minor": 4
}

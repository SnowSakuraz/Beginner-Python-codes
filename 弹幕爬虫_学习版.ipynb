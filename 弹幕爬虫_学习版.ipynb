{
 "cells": [
  {
   "cell_type": "code",
   "execution_count": 153,
   "metadata": {},
   "outputs": [
    {
     "name": "stdout",
     "output_type": "stream",
     "text": [
      "66666 123\n",
      "可爱 19\n",
      "我是每期必看的男酮粥粥 13\n",
      "我的我的 12\n",
      "666666 12\n",
      "我是每集都看的芜湖男酮黄杰琦 11\n",
      "我是每期必看的BLG男酮王博文 10\n",
      "？ 9\n",
      "逆天 9\n",
      "我的 9\n"
     ]
    }
   ],
   "source": [
    "import requests \n",
    "import re\n",
    "from bs4 import BeautifulSoup\n",
    "\n",
    "# 第一步：从主网址抓取弹幕网址\n",
    "def get_cid(bili_url):\n",
    "    headers = {\"User-Agent\": \"Mozilla/5.0 (Macintosh; Intel Mac OS X 10_14_4) AppleWebKit/537.36 (KHTML, like Gecko) Chrome/86.0.4240.183 Safari/537.36\"}\n",
    "    mainpage = requests.get(bili_url, headers = headers)   \n",
    "    \n",
    "    # use regular expression to get cid for danmu website\n",
    "    cid = re.search(r\"\\\"cid\\\":(\\d+)\", mainpage.text).group(1)\n",
    "    danmu_url = \"https://comment.bilibili.com/{}.xml\".format(cid)\n",
    "    \n",
    "# Step 2: 爬取弹幕\n",
    "# we didn't use xml method. Instead, we are using the html method.\n",
    "def get_danmu(danmu_url):\n",
    "    headers_two = {\"User-Agent\": \"Mozilla/5.0 (Macintosh; Intel Mac OS X 10_14_4) AppleWebKit/537.36 (KHTML, like Gecko) Chrome/86.0.4240.183 Safari/537.36\"}\n",
    "    danmupage = requests.get(danmu_url, headers = headers_two).content.decode('utf-8')   \n",
    "    \n",
    "    #use beautifulsoup to get danmu list\n",
    "    danmupage = BeautifulSoup(danmupage)\n",
    "    danmu = danmupage('d')\n",
    "    \n",
    "    #append danmu content to a list\n",
    "    global danmu_content\n",
    "    danmu_content = list() \n",
    "    for i in danmu:\n",
    "        danmu_content.append(i.contents[0])\n",
    "        \n",
    "# Step 3: 排序\n",
    "def ranking(danmu_content):\n",
    "    rank_dict = dict()\n",
    "    rank_list = list()\n",
    "    for word in danmu_content:\n",
    "        rank_dict[word] = rank_dict.get(word,0) + 1\n",
    "    for key, value in rank_dict.items():\n",
    "        couple = (value, key)\n",
    "        rank_list.append(couple)\n",
    "    sortlist = sorted(rank_list, reverse = True)\n",
    "    for value, key in sortlist[:10]:\n",
    "        print(key,value)\n"
   ]
  }
 ],
 "metadata": {
  "kernelspec": {
   "display_name": "Python 3",
   "language": "python",
   "name": "python3"
  },
  "language_info": {
   "codemirror_mode": {
    "name": "ipython",
    "version": 3
   },
   "file_extension": ".py",
   "mimetype": "text/x-python",
   "name": "python",
   "nbconvert_exporter": "python",
   "pygments_lexer": "ipython3",
   "version": "3.8.3"
  }
 },
 "nbformat": 4,
 "nbformat_minor": 4
}
